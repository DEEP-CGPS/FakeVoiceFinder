{
  "cells": [
    {
      "cell_type": "markdown",
      "id": "8535b832",
      "metadata": {
        "id": "8535b832"
      },
      "source": [
        "## Table of Contents\n",
        "- [Table of Contents](#table-of-contents)\n",
        "- [1) Environment & Imports](#environment-imports)\n",
        "- [2) Experiment Configuration](#experiment-configuration)\n",
        "- [3) Decide Clip Length (Optional)](#decide-clip-length-optional)\n",
        "- [4) Create Experiment Layout](#create-experiment-layout)\n",
        "- [5) Prepare Dataset (Load / Split / Save Originals)](#prepare-dataset-load-split-save-originals)\n",
        "- [6) Prepare Models](#prepare-models)\n",
        "- [7) Sanity Checks](#sanity-checks)\n",
        "- [8) Train & Evaluate (Optional)](#train-evaluate-optional)\n",
        "- [9) Metrics & Plots (Optional)](#metrics-plots-optional)\n",
        "- [Appendix — Tips & Troubleshooting](#appendix-tips-troubleshooting)"
      ]
    },
    {
      "cell_type": "markdown",
      "id": "86a78941",
      "metadata": {
        "id": "86a78941"
      },
      "source": [
        "<a id=\"basic-example\"></a>\n",
        "# Basic Example\n",
        "\n",
        "This notebook prepares data from the ZIPs (`real.zip`, `fake.zip`), loads **benchmark** models from torchvision (VGG, ResNet, ALEXNET) according to your configuration, and trains for **3 epochs** per transformation.\n",
        "\n",
        "**Prerequisites**:\n",
        "- ZIPs in `/content/drive/MyDrive/dataset` (at the repo root): `real.zip`, `fake.zip`\n",
        "- (Optional) user-provided TorchScript models in `/content/drive/MyDrive/models`\n"
      ]
    },
    {
      "cell_type": "markdown",
      "id": "TrT4QWrsBNsU",
      "metadata": {
        "id": "TrT4QWrsBNsU"
      },
      "source": [
        "Clone github repo:"
      ]
    },
    {
      "cell_type": "code",
      "execution_count": null,
      "id": "6uFcISvZLrV1",
      "metadata": {
        "colab": {
          "base_uri": "https://localhost:8080/"
        },
        "id": "6uFcISvZLrV1",
        "outputId": "0f214981-66c2-4390-d2de-aa240e9958dc"
      },
      "outputs": [],
      "source": [
        "!git clone https://github.com/DEEP-CGPS/FakeVoiceFinder.git"
      ]
    },
    {
      "cell_type": "markdown",
      "id": "nwaYZPFEBZid",
      "metadata": {
        "id": "nwaYZPFEBZid"
      },
      "source": [
        "Mount drive"
      ]
    },
    {
      "cell_type": "code",
      "execution_count": null,
      "id": "OueYqKRDLyj0",
      "metadata": {
        "colab": {
          "base_uri": "https://localhost:8080/"
        },
        "id": "OueYqKRDLyj0",
        "outputId": "654b0cdf-aee4-480e-bc60-bfe2b3910df3"
      },
      "outputs": [],
      "source": [
        "from google.colab import drive\n",
        "drive.mount('/content/drive')"
      ]
    },
    {
      "cell_type": "markdown",
      "id": "565oIj-2BcZQ",
      "metadata": {
        "id": "565oIj-2BcZQ"
      },
      "source": [
        "Import library"
      ]
    },
    {
      "cell_type": "code",
      "execution_count": 3,
      "id": "27312e84",
      "metadata": {
        "id": "27312e84"
      },
      "outputs": [],
      "source": [
        "from pprint import pprint\n",
        "from FakeVoiceFinder.fakevoicefinder import ExperimentConfig, CreateExperiment, ModelLoader, Trainer, ConfigError,shortest_audio_seconds\n"
      ]
    },
    {
      "cell_type": "markdown",
      "id": "17ba8ddc",
      "metadata": {
        "id": "17ba8ddc"
      },
      "source": [
        "<a id=\"experiment-configuration\"></a>\n",
        "## 2) Experiment Configuration\n",
        "<a id='sec2'></a>\n",
        "\n",
        "**Goal:** Define models, transforms, and hyperparameters.\n",
        "\n",
        "**Key fields in `ExperimentConfig`:**\n",
        "- `models_list`: e.g., `['alexnet', 'resnet18', 'convnext_tiny']`\n",
        "- `transform_list`: any of `['mel', 'log', 'dwt']`\n",
        "- `mel_params`, `log_params`, `dwt_params`: optional **overrides** (dicts). Defaults are used if not set.\n",
        "- `clip_seconds`: window length (seconds) for each audio (pad/trim). Default is 3.0 s.\n",
        "- `image_size`: **optional** resize for MEL/LOG (e.g., `224` for ViT).\n",
        "\n",
        "Tip: Keep defaults first; only override if you need a different setting."
      ]
    },
    {
      "cell_type": "code",
      "execution_count": 4,
      "id": "526d958d",
      "metadata": {
        "colab": {
          "base_uri": "https://localhost:8080/"
        },
        "id": "526d958d",
        "outputId": "ac6ca2e0-888d-446f-c756-106176a15e34"
      },
      "outputs": [
        {
          "name": "stdout",
          "output_type": "stream",
          "text": [
            "Config validation ✅\n",
            "ExperimentConfig:\n",
            "  batch_size     : 8\n",
            "  cache_features : True\n",
            "  clip_seconds   : None\n",
            "  data_path      : /content/drive/MyDrive/dataset\n",
            "  device         : gpu\n",
            "  dwt_params     : {'wavelet': 'db6', 'level': 5, 'mode': 'symmetric'}\n",
            "  epochs         : 3\n",
            "  eval_metric    : ['accuracy', 'F1']\n",
            "  fake_zip       : fake.zip\n",
            "  flag_train     : True\n",
            "  image_size     : 224\n",
            "  input_channels : 1\n",
            "  learning_rate  : 0.0001\n",
            "  log_params     : {'n_fft': 2048, 'hop_length': 256}\n",
            "  mel_params     : {'n_mels': 68, 'n_fft': 2048, 'hop_length': 512}\n",
            "  models_list    : ['alexnet', 'resnet18']\n",
            "  models_path    : /content/drive/MyDrive/models\n",
            "  num_workers    : 4\n",
            "  optimizer      : Adam\n",
            "  outputs_path   : /content/drive/MyDrive/outputs\n",
            "  patience       : 5\n",
            "  real_zip       : real.zip\n",
            "  run_name       : exp_v4\n",
            "  save_best_only : True\n",
            "  save_models    : True\n",
            "  seed           : 23\n",
            "  transform_list : ['mel', 'dwt', 'log']\n",
            "  type_train     : both\n"
          ]
        }
      ],
      "source": [
        "cfg = ExperimentConfig()\n",
        "\n",
        "# Experiment name (folder under outputs/)\n",
        "cfg.run_name = \"exp_v4\"\n",
        "\n",
        "# Paths (repo-relative)\n",
        "cfg.data_path = \"/content/drive/MyDrive/dataset\"   # where reals.zip and fakes.zip are\n",
        "cfg.models_path = \"/content/drive/MyDrive/models\"  # user TorchScript models\n",
        "\n",
        "cfg.outputs_path = \"/content/drive/MyDrive/outputs\"\n",
        "# Transforms to generate\n",
        "cfg.transform_list = [\"mel\",\"dwt\",\"log\"]\n",
        "\n",
        "# n_mels, n_fft, hop_length, win_length, fmin, fmax\n",
        "cfg.mel_params = {\n",
        "    \"n_mels\": 68,\n",
        "    \"n_fft\": 2048,\n",
        "    \"hop_length\": 512,\n",
        "    # \"win_length\": None,\n",
        "    # \"fmin\": 0,\n",
        "    # \"fmax\": None,\n",
        "}\n",
        "\n",
        "# --- log: valid keys ---\n",
        "# n_fft, hop_length, win_length\n",
        "cfg.log_params = {\n",
        "    \"n_fft\": 2048,\n",
        "    \"hop_length\": 256,\n",
        "    # \"win_length\": None,\n",
        "}\n",
        "\n",
        "# --- dwt: valid keys ---\n",
        "# wavelet, level, mode\n",
        "cfg.dwt_params = {\n",
        "    \"wavelet\": \"db6\",\n",
        "    \"level\": 5,\n",
        "    \"mode\": \"symmetric\",\n",
        "}\n",
        "\n",
        "cfg.image_size = 224\n",
        "\n",
        "# Benchmark models to test\n",
        "cfg.models_list = [\"alexnet\",\"resnet18\"]\n",
        "\n",
        "# Quick smoke-test training\n",
        "cfg.type_train = \"both\"   # 'scratch' | 'pretrain' | 'both'\n",
        "cfg.epochs = 3\n",
        "cfg.batch_size = 8\n",
        "cfg.learning_rate = 0.0001\n",
        "cfg.patience = 5\n",
        "\n",
        "# Input channel for spectrograms (.npy): 1 channel\n",
        "cfg.input_channels = 1\n",
        "\n",
        "# Config validation\n",
        "try:\n",
        "    cfg.validate()\n",
        "    print(\"Config validation ✅\")\n",
        "except ConfigError as e:\n",
        "    print(\"Config validation error:\", e)\n",
        "    raise\n",
        "\n",
        "print(cfg.summary())\n",
        "\n"
      ]
    },
    {
      "cell_type": "markdown",
      "id": "0ee627fa",
      "metadata": {
        "id": "0ee627fa"
      },
      "source": [
        "<a id=\"decide-clip-length-optional\"></a>\n",
        "## 3) Decide Clip Length (Optional)\n",
        "<a id='sec3'></a>\n",
        "\n",
        "**Goal:** Choose the time window (`clip_seconds`) to use for all audios.\n",
        "\n",
        "Use `shortest_audio_seconds(cfg)` to scan `reals.zip` and `fakes.zip` and return the shortest duration in seconds. Then either:\n",
        "- **A)** set `cfg.clip_seconds = min_duration` to avoid truncation; or\n",
        "- **B)** choose a fixed value (e.g., 3.0 s). Short files will be **zero-padded** automatically."
      ]
    },
    {
      "cell_type": "code",
      "execution_count": 5,
      "id": "6b5bd30b-62d1-4b68-a12f-de4382fdf4d4",
      "metadata": {
        "colab": {
          "base_uri": "https://localhost:8080/"
        },
        "id": "6b5bd30b-62d1-4b68-a12f-de4382fdf4d4",
        "outputId": "d88cabbf-54ef-452d-91e5-094df9c78977"
      },
      "outputs": [
        {
          "name": "stdout",
          "output_type": "stream",
          "text": [
            "Duración mínima detectada en los zips: 4\n"
          ]
        }
      ],
      "source": [
        "# 2) Elegir la ventana de audio (clip_seconds)\n",
        "min_sec = int(shortest_audio_seconds(cfg))\n",
        "print(f\"Duración mínima detectada en los zips: {min_sec}\")\n",
        "\n",
        "# Opción A: usar exactamente la mínima detectada\n",
        "cfg.clip_seconds = min_sec\n",
        "\n",
        "# Opción B: usar un valor fijo que tú prefieras (p. ej., 3.0 s)\n",
        "# cfg.clip_seconds = 3.0\n",
        "\n",
        "# Nota: si pones un valor mayor que muchos audios, se rellenará con padding (como ya hace el pipeline).\n"
      ]
    },
    {
      "cell_type": "markdown",
      "id": "76e72ba8",
      "metadata": {
        "id": "76e72ba8"
      },
      "source": [
        "<a id=\"create-experiment-layout\"></a>\n",
        "## 4) Create Experiment Layout\n",
        "<a id='sec4'></a>\n",
        "\n",
        "**Goal:** Initialize the experiment folder structure and manifest (`experiment.json`).\n",
        "\n",
        "Run `CreateExperiment(cfg).build()` to set up:\n",
        "- `outputs/<RUN>/datasets/{train,test}/...`\n",
        "- `outputs/<RUN>/models/loaded/`\n",
        "- `outputs/<RUN>/reports/`\n",
        "\n",
        "The manifest stores paths and metadata for reproducibility."
      ]
    },
    {
      "cell_type": "code",
      "execution_count": 6,
      "id": "62fe9e3a",
      "metadata": {
        "colab": {
          "base_uri": "https://localhost:8080/"
        },
        "id": "62fe9e3a",
        "outputId": "56584b93-5229-4734-dafb-c6c02d0f708a"
      },
      "outputs": [
        {
          "data": {
            "text/plain": [
              "{'models': {'alexnet': {'loaded_path': None,\n",
              "   'trained_path': None,\n",
              "   'train_parameters': {'epochs': 3,\n",
              "    'learning_rate': 0.0001,\n",
              "    'batch_size': 8,\n",
              "    'optimizer': 'Adam',\n",
              "    'patience': 5,\n",
              "    'device': 'gpu',\n",
              "    'seed': 23,\n",
              "    'type_train': 'both',\n",
              "    'num_workers': 4,\n",
              "    'transform': None}},\n",
              "  'resnet18': {'loaded_path': None,\n",
              "   'trained_path': None,\n",
              "   'train_parameters': {'epochs': 3,\n",
              "    'learning_rate': 0.0001,\n",
              "    'batch_size': 8,\n",
              "    'optimizer': 'Adam',\n",
              "    'patience': 5,\n",
              "    'device': 'gpu',\n",
              "    'seed': 23,\n",
              "    'type_train': 'both',\n",
              "    'num_workers': 4,\n",
              "    'transform': None}}},\n",
              " 'train_data': {'original_dataset': {'path': '../drive/MyDrive/outputs/exp_v4/datasets/train/original',\n",
              "   'num_items': 0},\n",
              "  'transforms_dataset': {'mel': {'path': '../drive/MyDrive/outputs/exp_v4/datasets/train/transforms/mel',\n",
              "    'params': {}},\n",
              "   'dwt': {'path': '../drive/MyDrive/outputs/exp_v4/datasets/train/transforms/dwt',\n",
              "    'params': {}},\n",
              "   'log': {'path': '../drive/MyDrive/outputs/exp_v4/datasets/train/transforms/log',\n",
              "    'params': {}}}},\n",
              " 'test_data': {'original_dataset': {'path': '../drive/MyDrive/outputs/exp_v4/datasets/test/original',\n",
              "   'num_items': 0},\n",
              "  'transforms_dataset': {'mel': {'path': '../drive/MyDrive/outputs/exp_v4/datasets/test/transforms/mel',\n",
              "    'params': {}},\n",
              "   'dwt': {'path': '../drive/MyDrive/outputs/exp_v4/datasets/test/transforms/dwt',\n",
              "    'params': {}},\n",
              "   'log': {'path': '../drive/MyDrive/outputs/exp_v4/datasets/test/transforms/log',\n",
              "    'params': {}}}},\n",
              " 'reports': {'path': '../drive/MyDrive/outputs/exp_v4/reports'}}"
            ]
          },
          "execution_count": 6,
          "metadata": {},
          "output_type": "execute_result"
        }
      ],
      "source": [
        "exp = CreateExperiment(cfg, experiment_name=cfg.run_name)\n",
        "exp.build()"
      ]
    },
    {
      "cell_type": "markdown",
      "id": "eccdd45b",
      "metadata": {
        "id": "eccdd45b"
      },
      "source": [
        "<a id=\"prepare-dataset-load-split-save-originals\"></a>\n",
        "## 5) Prepare Dataset (Load / Split / Save Originals / Transform)\n",
        "<a id='sec5'></a>\n",
        "\n",
        "**Goal:**\n",
        "1) Read `real.zip` and `fake.zip`.\n",
        "2) Stratified split into train/test.\n",
        "3) Extract original audio files into the experiment folders.\n",
        "4) Generate Transforms (MEL / LOG / DWT)"
      ]
    },
    {
      "cell_type": "code",
      "execution_count": 7,
      "id": "9b459feb-e6b0-4a35-8f4a-8f6d3e86597d",
      "metadata": {
        "colab": {
          "base_uri": "https://localhost:8080/"
        },
        "id": "9b459feb-e6b0-4a35-8f4a-8f6d3e86597d",
        "outputId": "fdbc6010-8d6a-4e69-a897-88f6cd33d97b"
      },
      "outputs": [
        {
          "name": "stdout",
          "output_type": "stream",
          "text": [
            "Data prep summary:\n",
            "{'load': {'fake': 600, 'real': 600},\n",
            " 'save_original': {'test': 240, 'train': 960},\n",
            " 'split': {'test': {'fake': 120, 'real': 120, 'total': 240},\n",
            "           'train': {'fake': 480, 'real': 480, 'total': 960}},\n",
            " 'transforms': {'dwt': {'test': 240, 'train': 960},\n",
            "                'log': {'test': 240, 'train': 960},\n",
            "                'mel': {'test': 240, 'train': 960}}}\n",
            "Manifest: /content/drive/MyDrive/outputs/exp_v4/experiment.json\n"
          ]
        }
      ],
      "source": [
        "summary = exp.prepare_data(train_ratio=0.8, seed=cfg.seed, transforms=cfg.transform_list)\n",
        "print(\"Data prep summary:\")\n",
        "pprint(summary)\n",
        "\n",
        "print(\"Manifest:\", (exp.root / \"experiment.json\").as_posix())"
      ]
    },
    {
      "cell_type": "markdown",
      "id": "38a6d4ee",
      "metadata": {
        "id": "38a6d4ee"
      },
      "source": [
        "<a id=\"prepare-models\"></a>\n",
        "## 6) Prepare Models"
      ]
    },
    {
      "cell_type": "code",
      "execution_count": 8,
      "id": "48f90718",
      "metadata": {
        "colab": {
          "base_uri": "https://localhost:8080/"
        },
        "id": "48f90718",
        "outputId": "c9907cfd-8030-492e-ed05-4d437babadbd"
      },
      "outputs": [
        {
          "name": "stdout",
          "output_type": "stream",
          "text": [
            "Downloading: \"https://download.pytorch.org/models/alexnet-owt-7be5be79.pth\" to /root/.cache/torch/hub/checkpoints/alexnet-owt-7be5be79.pth\n"
          ]
        },
        {
          "name": "stderr",
          "output_type": "stream",
          "text": [
            "100%|██████████| 233M/233M [00:01<00:00, 174MB/s]\n"
          ]
        },
        {
          "name": "stdout",
          "output_type": "stream",
          "text": [
            "Downloading: \"https://download.pytorch.org/models/resnet18-f37072fd.pth\" to /root/.cache/torch/hub/checkpoints/resnet18-f37072fd.pth\n"
          ]
        },
        {
          "name": "stderr",
          "output_type": "stream",
          "text": [
            "100%|██████████| 44.7M/44.7M [00:00<00:00, 184MB/s]\n"
          ]
        },
        {
          "name": "stdout",
          "output_type": "stream",
          "text": [
            "Benchmarks saved under models/loaded:\n",
            "{'alexnet': {'pretrain': '../drive/MyDrive/outputs/exp_v4/models/loaded/alexnet_pretrain.pt',\n",
            "             'scratch': '../drive/MyDrive/outputs/exp_v4/models/loaded/alexnet_scratch.pt'},\n",
            " 'resnet18': {'pretrain': '../drive/MyDrive/outputs/exp_v4/models/loaded/resnet18_pretrain.pt',\n",
            "              'scratch': '../drive/MyDrive/outputs/exp_v4/models/loaded/resnet18_scratch.pt'}}\n",
            "User models saved:\n",
            "{}\n"
          ]
        }
      ],
      "source": [
        "loader = ModelLoader(exp)\n",
        "bench = loader.prepare_benchmarks(add_softmax=False, input_channels=getattr(cfg, \"input_channels\", 1))\n",
        "print(\"Benchmarks saved under models/loaded:\")\n",
        "pprint(bench)\n",
        "\n",
        "# User models (if any .pt/.pth under cfg.models_path)\n",
        "user = loader.prepare_user_models(add_softmax=False, input_channels=cfg.input_channels)\n",
        "print(\"User models saved:\")\n",
        "pprint(user)"
      ]
    },
    {
      "cell_type": "markdown",
      "id": "2f11848e",
      "metadata": {
        "id": "2f11848e"
      },
      "source": [
        "<a id=\"sanity-checks\"></a>\n",
        "## 7) Sanity Checks\n",
        "<a id='sec7'></a>\n",
        "\n",
        "**Goal:** Verify shapes and parameters saved to the manifest.\n",
        "\n",
        "- Load one `.npy` per class and print its shape.\n",
        "- Inspect `experiment.json` parameters under `train_data.transforms_dataset[<name>].params`."
      ]
    },
    {
      "cell_type": "code",
      "execution_count": 9,
      "id": "24767786-8c87-4048-bc93-b3efeea47a0a",
      "metadata": {
        "colab": {
          "base_uri": "https://localhost:8080/"
        },
        "id": "24767786-8c87-4048-bc93-b3efeea47a0a",
        "outputId": "22073a75-4eac-4c75-fd4d-ce125beb2637"
      },
      "outputs": [
        {
          "name": "stdout",
          "output_type": "stream",
          "text": [
            "📁 datasets\n",
            "   📁 test\n",
            "      📁 original\n",
            "         📁 fake\n",
            "         📁 real\n",
            "      📁 transforms\n",
            "         📁 dwt\n",
            "         📁 log\n",
            "         📁 mel\n",
            "   📁 train\n",
            "      📁 original\n",
            "         📁 fake\n",
            "         📁 real\n",
            "      📁 transforms\n",
            "         📁 dwt\n",
            "         📁 log\n",
            "         📁 mel\n",
            "📁 models\n",
            "   📁 loaded\n",
            "      📄 alexnet_pretrain.pt\n",
            "      📄 alexnet_scratch.pt\n",
            "      📄 resnet18_pretrain.pt\n",
            "      📄 resnet18_scratch.pt\n",
            "   📁 trained\n",
            "📁 reports\n",
            "📄 experiment.json\n"
          ]
        }
      ],
      "source": [
        "def print_tree(root, max_depth: int = 3, prefix: str = \"\"):\n",
        "    if max_depth < 0:\n",
        "        return\n",
        "    try:\n",
        "        entries = sorted(root.iterdir(), key=lambda p: (p.is_file(), p.name.lower()))\n",
        "    except FileNotFoundError:\n",
        "        return\n",
        "    for e in entries:\n",
        "        print(prefix + (\"📄 \" if e.is_file() else \"📁 \") + e.name)\n",
        "        if e.is_dir():\n",
        "            print_tree(e, max_depth - 1, prefix + \"   \")\n",
        "\n",
        "print_tree(exp.root, max_depth=3)"
      ]
    },
    {
      "cell_type": "markdown",
      "id": "65d3156b",
      "metadata": {
        "id": "65d3156b"
      },
      "source": [
        "<a id=\"train-evaluate-optional\"></a>\n",
        "## 8) Train & Evaluate (Optional)\n",
        "<a id='sec8'></a>\n",
        "\n",
        "**Goal:** Train your selected models and compute metrics on the test split.\n",
        "\n",
        "- Use your training loop or the provided trainer to fit each model.\n",
        "- Evaluate with `MetricsReporter` to build a DataFrame of scores (Accuracy, F1)."
      ]
    },
    {
      "cell_type": "code",
      "execution_count": 10,
      "id": "2f6b966a",
      "metadata": {
        "colab": {
          "base_uri": "https://localhost:8080/"
        },
        "collapsed": true,
        "id": "2f6b966a",
        "jupyter": {
          "outputs_hidden": true
        },
        "outputId": "5a936afc-d21e-4346-9c84-cae251edeaa4"
      },
      "outputs": [
        {
          "name": "stdout",
          "output_type": "stream",
          "text": [
            "[Trainer] Using device: cuda\n",
            "[Trainer] Transforms to train: ['mel', 'dwt', 'log']\n",
            "[Trainer] Models found: ['alexnet', 'resnet18']\n",
            "\n",
            "=== MODEL: alexnet ===\n",
            "[alexnet] Hyperparams -> epochs=3, lr=0.0001, bs=8, optimizer=Adam, patience=5, seed=23, num_workers=4\n",
            "[alexnet][mel] Dataset sizes -> train: 1920, test: 480\n",
            "[alexnet][mel] Batches -> train: 240, test: 60\n",
            "[alexnet][mel][scratch] Loading checkpoint: /content/FakeVoiceFinder/../drive/MyDrive/outputs/exp_v4/models/loaded/alexnet_scratch.pt\n"
          ]
        },
        {
          "name": "stderr",
          "output_type": "stream",
          "text": [
            "/usr/local/lib/python3.12/dist-packages/torch/utils/data/dataloader.py:627: UserWarning: This DataLoader will create 4 worker processes in total. Our suggested max number of worker in current system is 2, which is smaller than what this DataLoader is going to create. Please be aware that excessive worker creation might get DataLoader running slow or even freeze, lower the worker number to avoid potential slowness/freeze if necessary.\n",
            "  warnings.warn(\n"
          ]
        },
        {
          "name": "stdout",
          "output_type": "stream",
          "text": [
            "[alexnet][mel][scratch] Loaded pickled module.\n",
            "[alexnet][mel][scratch] Start training for 3 epochs\n",
            "[alexnet][mel][scratch] Epoch 1/3 - loss=0.6934 acc=0.5667\n",
            "[alexnet][mel][scratch] Confusion matrix (test):\n",
            "[[TN=  36, FP= 204],\n",
            " [FN=   4, TP= 236]]\n",
            "[alexnet][mel][scratch] ✅ New best acc=0.5667 at epoch 1\n",
            "[alexnet][mel][scratch] Epoch 2/3 - loss=0.5609 acc=0.7542\n",
            "[alexnet][mel][scratch] Confusion matrix (test):\n",
            "[[TN= 128, FP= 112],\n",
            " [FN=   6, TP= 234]]\n",
            "[alexnet][mel][scratch] ✅ New best acc=0.7542 at epoch 2\n",
            "[alexnet][mel][scratch] Epoch 3/3 - loss=0.3371 acc=0.8542\n",
            "[alexnet][mel][scratch] Confusion matrix (test):\n",
            "[[TN= 180, FP=  60],\n",
            " [FN=  10, TP= 230]]\n",
            "[alexnet][mel][scratch] ✅ New best acc=0.8542 at epoch 3\n",
            "[alexnet][mel] Saved best checkpoint -> alexnet_scratch_mel_seed23_epoch003_acc0.85.pt\n",
            "[alexnet][mel][pretrain] Loading checkpoint: /content/FakeVoiceFinder/../drive/MyDrive/outputs/exp_v4/models/loaded/alexnet_pretrain.pt\n",
            "[alexnet][mel][pretrain] Loaded pickled module.\n",
            "[alexnet][mel][pretrain] Start training for 3 epochs\n",
            "[alexnet][mel][pretrain] Epoch 1/3 - loss=0.6035 acc=0.7333\n",
            "[alexnet][mel][pretrain] Confusion matrix (test):\n",
            "[[TN= 120, FP= 120],\n",
            " [FN=   8, TP= 232]]\n",
            "[alexnet][mel][pretrain] ✅ New best acc=0.7333 at epoch 1\n",
            "[alexnet][mel][pretrain] Epoch 2/3 - loss=0.3568 acc=0.9167\n",
            "[alexnet][mel][pretrain] Confusion matrix (test):\n",
            "[[TN= 222, FP=  18],\n",
            " [FN=  22, TP= 218]]\n",
            "[alexnet][mel][pretrain] ✅ New best acc=0.9167 at epoch 2\n",
            "[alexnet][mel][pretrain] Epoch 3/3 - loss=0.2046 acc=0.9458\n",
            "[alexnet][mel][pretrain] Confusion matrix (test):\n",
            "[[TN= 222, FP=  18],\n",
            " [FN=   8, TP= 232]]\n",
            "[alexnet][mel][pretrain] ✅ New best acc=0.9458 at epoch 3\n",
            "[alexnet][mel] Saved best checkpoint -> alexnet_pretrain_mel_seed23_epoch003_acc0.95.pt\n",
            "[alexnet][dwt] Dataset sizes -> train: 1920, test: 480\n",
            "[alexnet][dwt] Batches -> train: 240, test: 60\n",
            "[alexnet][dwt][scratch] Loading checkpoint: /content/FakeVoiceFinder/../drive/MyDrive/outputs/exp_v4/models/loaded/alexnet_scratch.pt\n",
            "[alexnet][dwt][scratch] Loaded pickled module.\n",
            "[alexnet][dwt][scratch] Start training for 3 epochs\n",
            "[alexnet][dwt][scratch] Epoch 1/3 - loss=0.6466 acc=0.7958\n",
            "[alexnet][dwt][scratch] Confusion matrix (test):\n",
            "[[TN= 228, FP=  12],\n",
            " [FN=  86, TP= 154]]\n",
            "[alexnet][dwt][scratch] ✅ New best acc=0.7958 at epoch 1\n",
            "[alexnet][dwt][scratch] Epoch 2/3 - loss=0.4564 acc=0.8333\n",
            "[alexnet][dwt][scratch] Confusion matrix (test):\n",
            "[[TN= 212, FP=  28],\n",
            " [FN=  52, TP= 188]]\n",
            "[alexnet][dwt][scratch] ✅ New best acc=0.8333 at epoch 2\n",
            "[alexnet][dwt][scratch] Epoch 3/3 - loss=0.3136 acc=0.7500\n",
            "[alexnet][dwt][scratch] Confusion matrix (test):\n",
            "[[TN= 126, FP= 114],\n",
            " [FN=   6, TP= 234]]\n",
            "[alexnet][dwt] Saved best checkpoint -> alexnet_scratch_dwt_seed23_epoch002_acc0.83.pt\n",
            "[alexnet][dwt][pretrain] Loading checkpoint: /content/FakeVoiceFinder/../drive/MyDrive/outputs/exp_v4/models/loaded/alexnet_pretrain.pt\n",
            "[alexnet][dwt][pretrain] Loaded pickled module.\n",
            "[alexnet][dwt][pretrain] Start training for 3 epochs\n",
            "[alexnet][dwt][pretrain] Epoch 1/3 - loss=0.6068 acc=0.6875\n",
            "[alexnet][dwt][pretrain] Confusion matrix (test):\n",
            "[[TN=  96, FP= 144],\n",
            " [FN=   6, TP= 234]]\n",
            "[alexnet][dwt][pretrain] ✅ New best acc=0.6875 at epoch 1\n",
            "[alexnet][dwt][pretrain] Epoch 2/3 - loss=0.4203 acc=0.8333\n",
            "[alexnet][dwt][pretrain] Confusion matrix (test):\n",
            "[[TN= 204, FP=  36],\n",
            " [FN=  44, TP= 196]]\n",
            "[alexnet][dwt][pretrain] ✅ New best acc=0.8333 at epoch 2\n",
            "[alexnet][dwt][pretrain] Epoch 3/3 - loss=0.3228 acc=0.6917\n",
            "[alexnet][dwt][pretrain] Confusion matrix (test):\n",
            "[[TN=  94, FP= 146],\n",
            " [FN=   2, TP= 238]]\n",
            "[alexnet][dwt] Saved best checkpoint -> alexnet_pretrain_dwt_seed23_epoch002_acc0.83.pt\n",
            "[alexnet][log] Dataset sizes -> train: 1920, test: 480\n",
            "[alexnet][log] Batches -> train: 240, test: 60\n",
            "[alexnet][log][scratch] Loading checkpoint: /content/FakeVoiceFinder/../drive/MyDrive/outputs/exp_v4/models/loaded/alexnet_scratch.pt\n",
            "[alexnet][log][scratch] Loaded pickled module.\n",
            "[alexnet][log][scratch] Start training for 3 epochs\n",
            "[alexnet][log][scratch] Epoch 1/3 - loss=0.6965 acc=0.5000\n",
            "[alexnet][log][scratch] Confusion matrix (test):\n",
            "[[TN= 240, FP=   0],\n",
            " [FN= 240, TP=   0]]\n",
            "[alexnet][log][scratch] ✅ New best acc=0.5000 at epoch 1\n",
            "[alexnet][log][scratch] Epoch 2/3 - loss=0.6943 acc=0.5000\n",
            "[alexnet][log][scratch] Confusion matrix (test):\n",
            "[[TN=   0, FP= 240],\n",
            " [FN=   0, TP= 240]]\n",
            "[alexnet][log][scratch] Epoch 3/3 - loss=0.6702 acc=0.7792\n",
            "[alexnet][log][scratch] Confusion matrix (test):\n",
            "[[TN= 152, FP=  88],\n",
            " [FN=  18, TP= 222]]\n",
            "[alexnet][log][scratch] ✅ New best acc=0.7792 at epoch 3\n",
            "[alexnet][log] Saved best checkpoint -> alexnet_scratch_log_seed23_epoch003_acc0.78.pt\n",
            "[alexnet][log][pretrain] Loading checkpoint: /content/FakeVoiceFinder/../drive/MyDrive/outputs/exp_v4/models/loaded/alexnet_pretrain.pt\n",
            "[alexnet][log][pretrain] Loaded pickled module.\n",
            "[alexnet][log][pretrain] Start training for 3 epochs\n",
            "[alexnet][log][pretrain] Epoch 1/3 - loss=0.6323 acc=0.6458\n",
            "[alexnet][log][pretrain] Confusion matrix (test):\n",
            "[[TN=  78, FP= 162],\n",
            " [FN=   8, TP= 232]]\n",
            "[alexnet][log][pretrain] ✅ New best acc=0.6458 at epoch 1\n",
            "[alexnet][log][pretrain] Epoch 2/3 - loss=0.4661 acc=0.8208\n",
            "[alexnet][log][pretrain] Confusion matrix (test):\n",
            "[[TN= 204, FP=  36],\n",
            " [FN=  50, TP= 190]]\n",
            "[alexnet][log][pretrain] ✅ New best acc=0.8208 at epoch 2\n",
            "[alexnet][log][pretrain] Epoch 3/3 - loss=0.2933 acc=0.9333\n",
            "[alexnet][log][pretrain] Confusion matrix (test):\n",
            "[[TN= 234, FP=   6],\n",
            " [FN=  26, TP= 214]]\n",
            "[alexnet][log][pretrain] ✅ New best acc=0.9333 at epoch 3\n",
            "[alexnet][log] Saved best checkpoint -> alexnet_pretrain_log_seed23_epoch003_acc0.93.pt\n",
            "\n",
            "=== MODEL: resnet18 ===\n",
            "[resnet18] Hyperparams -> epochs=3, lr=0.0001, bs=8, optimizer=Adam, patience=5, seed=23, num_workers=4\n",
            "[resnet18][mel] Dataset sizes -> train: 1920, test: 480\n",
            "[resnet18][mel] Batches -> train: 240, test: 60\n",
            "[resnet18][mel][scratch] Loading checkpoint: /content/FakeVoiceFinder/../drive/MyDrive/outputs/exp_v4/models/loaded/resnet18_scratch.pt\n",
            "[resnet18][mel][scratch] Loaded pickled module.\n",
            "[resnet18][mel][scratch] Start training for 3 epochs\n",
            "[resnet18][mel][scratch] Epoch 1/3 - loss=0.3762 acc=0.7833\n",
            "[resnet18][mel][scratch] Confusion matrix (test):\n",
            "[[TN= 140, FP= 100],\n",
            " [FN=   4, TP= 236]]\n",
            "[resnet18][mel][scratch] ✅ New best acc=0.7833 at epoch 1\n",
            "[resnet18][mel][scratch] Epoch 2/3 - loss=0.1812 acc=0.6375\n",
            "[resnet18][mel][scratch] Confusion matrix (test):\n",
            "[[TN=  68, FP= 172],\n",
            " [FN=   2, TP= 238]]\n",
            "[resnet18][mel][scratch] Epoch 3/3 - loss=0.1014 acc=0.9542\n",
            "[resnet18][mel][scratch] Confusion matrix (test):\n",
            "[[TN= 228, FP=  12],\n",
            " [FN=  10, TP= 230]]\n",
            "[resnet18][mel][scratch] ✅ New best acc=0.9542 at epoch 3\n",
            "[resnet18][mel] Saved best checkpoint -> resnet18_scratch_mel_seed23_epoch003_acc0.95.pt\n",
            "[resnet18][mel][pretrain] Loading checkpoint: /content/FakeVoiceFinder/../drive/MyDrive/outputs/exp_v4/models/loaded/resnet18_pretrain.pt\n",
            "[resnet18][mel][pretrain] Loaded pickled module.\n",
            "[resnet18][mel][pretrain] Start training for 3 epochs\n",
            "[resnet18][mel][pretrain] Epoch 1/3 - loss=0.2729 acc=0.9542\n",
            "[resnet18][mel][pretrain] Confusion matrix (test):\n",
            "[[TN= 228, FP=  12],\n",
            " [FN=  10, TP= 230]]\n",
            "[resnet18][mel][pretrain] ✅ New best acc=0.9542 at epoch 1\n",
            "[resnet18][mel][pretrain] Epoch 2/3 - loss=0.1205 acc=0.9542\n",
            "[resnet18][mel][pretrain] Confusion matrix (test):\n",
            "[[TN= 226, FP=  14],\n",
            " [FN=   8, TP= 232]]\n",
            "[resnet18][mel][pretrain] Epoch 3/3 - loss=0.0556 acc=0.9750\n",
            "[resnet18][mel][pretrain] Confusion matrix (test):\n",
            "[[TN= 230, FP=  10],\n",
            " [FN=   2, TP= 238]]\n",
            "[resnet18][mel][pretrain] ✅ New best acc=0.9750 at epoch 3\n",
            "[resnet18][mel] Saved best checkpoint -> resnet18_pretrain_mel_seed23_epoch003_acc0.97.pt\n",
            "[resnet18][dwt] Dataset sizes -> train: 1920, test: 480\n",
            "[resnet18][dwt] Batches -> train: 240, test: 60\n",
            "[resnet18][dwt][scratch] Loading checkpoint: /content/FakeVoiceFinder/../drive/MyDrive/outputs/exp_v4/models/loaded/resnet18_scratch.pt\n",
            "[resnet18][dwt][scratch] Loaded pickled module.\n",
            "[resnet18][dwt][scratch] Start training for 3 epochs\n",
            "[resnet18][dwt][scratch] Epoch 1/3 - loss=0.3868 acc=0.8708\n",
            "[resnet18][dwt][scratch] Confusion matrix (test):\n",
            "[[TN= 206, FP=  34],\n",
            " [FN=  28, TP= 212]]\n",
            "[resnet18][dwt][scratch] ✅ New best acc=0.8708 at epoch 1\n",
            "[resnet18][dwt][scratch] Epoch 2/3 - loss=0.2359 acc=0.8167\n",
            "[resnet18][dwt][scratch] Confusion matrix (test):\n",
            "[[TN= 218, FP=  22],\n",
            " [FN=  66, TP= 174]]\n",
            "[resnet18][dwt][scratch] Epoch 3/3 - loss=0.1383 acc=0.8958\n",
            "[resnet18][dwt][scratch] Confusion matrix (test):\n",
            "[[TN= 222, FP=  18],\n",
            " [FN=  32, TP= 208]]\n",
            "[resnet18][dwt][scratch] ✅ New best acc=0.8958 at epoch 3\n",
            "[resnet18][dwt] Saved best checkpoint -> resnet18_scratch_dwt_seed23_epoch003_acc0.90.pt\n",
            "[resnet18][dwt][pretrain] Loading checkpoint: /content/FakeVoiceFinder/../drive/MyDrive/outputs/exp_v4/models/loaded/resnet18_pretrain.pt\n",
            "[resnet18][dwt][pretrain] Loaded pickled module.\n",
            "[resnet18][dwt][pretrain] Start training for 3 epochs\n",
            "[resnet18][dwt][pretrain] Epoch 1/3 - loss=0.3264 acc=0.9250\n",
            "[resnet18][dwt][pretrain] Confusion matrix (test):\n",
            "[[TN= 222, FP=  18],\n",
            " [FN=  18, TP= 222]]\n",
            "[resnet18][dwt][pretrain] ✅ New best acc=0.9250 at epoch 1\n",
            "[resnet18][dwt][pretrain] Epoch 2/3 - loss=0.1619 acc=0.8458\n",
            "[resnet18][dwt][pretrain] Confusion matrix (test):\n",
            "[[TN= 168, FP=  72],\n",
            " [FN=   2, TP= 238]]\n",
            "[resnet18][dwt][pretrain] Epoch 3/3 - loss=0.1014 acc=0.8583\n",
            "[resnet18][dwt][pretrain] Confusion matrix (test):\n",
            "[[TN= 174, FP=  66],\n",
            " [FN=   2, TP= 238]]\n",
            "[resnet18][dwt] Saved best checkpoint -> resnet18_pretrain_dwt_seed23_epoch001_acc0.93.pt\n",
            "[resnet18][log] Dataset sizes -> train: 1920, test: 480\n",
            "[resnet18][log] Batches -> train: 240, test: 60\n",
            "[resnet18][log][scratch] Loading checkpoint: /content/FakeVoiceFinder/../drive/MyDrive/outputs/exp_v4/models/loaded/resnet18_scratch.pt\n",
            "[resnet18][log][scratch] Loaded pickled module.\n",
            "[resnet18][log][scratch] Start training for 3 epochs\n",
            "[resnet18][log][scratch] Epoch 1/3 - loss=0.3316 acc=0.9458\n",
            "[resnet18][log][scratch] Confusion matrix (test):\n",
            "[[TN= 230, FP=  10],\n",
            " [FN=  16, TP= 224]]\n",
            "[resnet18][log][scratch] ✅ New best acc=0.9458 at epoch 1\n",
            "[resnet18][log][scratch] Epoch 2/3 - loss=0.1531 acc=0.8750\n",
            "[resnet18][log][scratch] Confusion matrix (test):\n",
            "[[TN= 180, FP=  60],\n",
            " [FN=   0, TP= 240]]\n",
            "[resnet18][log][scratch] Epoch 3/3 - loss=0.0910 acc=0.9417\n",
            "[resnet18][log][scratch] Confusion matrix (test):\n",
            "[[TN= 218, FP=  22],\n",
            " [FN=   6, TP= 234]]\n",
            "[resnet18][log] Saved best checkpoint -> resnet18_scratch_log_seed23_epoch001_acc0.95.pt\n",
            "[resnet18][log][pretrain] Loading checkpoint: /content/FakeVoiceFinder/../drive/MyDrive/outputs/exp_v4/models/loaded/resnet18_pretrain.pt\n",
            "[resnet18][log][pretrain] Loaded pickled module.\n",
            "[resnet18][log][pretrain] Start training for 3 epochs\n",
            "[resnet18][log][pretrain] Epoch 1/3 - loss=0.2341 acc=0.9875\n",
            "[resnet18][log][pretrain] Confusion matrix (test):\n",
            "[[TN= 236, FP=   4],\n",
            " [FN=   2, TP= 238]]\n",
            "[resnet18][log][pretrain] ✅ New best acc=0.9875 at epoch 1\n",
            "[resnet18][log][pretrain] Epoch 2/3 - loss=0.0999 acc=0.9875\n",
            "[resnet18][log][pretrain] Confusion matrix (test):\n",
            "[[TN= 240, FP=   0],\n",
            " [FN=   6, TP= 234]]\n",
            "[resnet18][log][pretrain] Epoch 3/3 - loss=0.0698 acc=0.9875\n",
            "[resnet18][log][pretrain] Confusion matrix (test):\n",
            "[[TN= 240, FP=   0],\n",
            " [FN=   6, TP= 234]]\n",
            "[resnet18][log] Saved best checkpoint -> resnet18_pretrain_log_seed23_epoch001_acc0.99.pt\n",
            "\n",
            "[Trainer] All training finished.\n",
            "Resultados de entrenamiento (rutas repo-relativas):\n",
            "{'alexnet': {'dwt': {'pretrain': '../drive/MyDrive/outputs/exp_v4/models/trained/alexnet_pretrain_dwt_seed23_epoch002_acc0.83.pt',\n",
            "                     'scratch': '../drive/MyDrive/outputs/exp_v4/models/trained/alexnet_scratch_dwt_seed23_epoch002_acc0.83.pt'},\n",
            "             'log': {'pretrain': '../drive/MyDrive/outputs/exp_v4/models/trained/alexnet_pretrain_log_seed23_epoch003_acc0.93.pt',\n",
            "                     'scratch': '../drive/MyDrive/outputs/exp_v4/models/trained/alexnet_scratch_log_seed23_epoch003_acc0.78.pt'},\n",
            "             'mel': {'pretrain': '../drive/MyDrive/outputs/exp_v4/models/trained/alexnet_pretrain_mel_seed23_epoch003_acc0.95.pt',\n",
            "                     'scratch': '../drive/MyDrive/outputs/exp_v4/models/trained/alexnet_scratch_mel_seed23_epoch003_acc0.85.pt'}},\n",
            " 'resnet18': {'dwt': {'pretrain': '../drive/MyDrive/outputs/exp_v4/models/trained/resnet18_pretrain_dwt_seed23_epoch001_acc0.93.pt',\n",
            "                      'scratch': '../drive/MyDrive/outputs/exp_v4/models/trained/resnet18_scratch_dwt_seed23_epoch003_acc0.90.pt'},\n",
            "              'log': {'pretrain': '../drive/MyDrive/outputs/exp_v4/models/trained/resnet18_pretrain_log_seed23_epoch001_acc0.99.pt',\n",
            "                      'scratch': '../drive/MyDrive/outputs/exp_v4/models/trained/resnet18_scratch_log_seed23_epoch001_acc0.95.pt'},\n",
            "              'mel': {'pretrain': '../drive/MyDrive/outputs/exp_v4/models/trained/resnet18_pretrain_mel_seed23_epoch003_acc0.97.pt',\n",
            "                      'scratch': '../drive/MyDrive/outputs/exp_v4/models/trained/resnet18_scratch_mel_seed23_epoch003_acc0.95.pt'}}}\n",
            "Best checkpoints stored in: /content/drive/MyDrive/outputs/exp_v4/models/trained\n"
          ]
        }
      ],
      "source": [
        "trainer = Trainer(exp)\n",
        "train_results = trainer.train_all()\n",
        "print(\"Resultados de entrenamiento (rutas repo-relativas):\")\n",
        "pprint(train_results)\n",
        "\n",
        "print(\"Best checkpoints stored in:\", (exp.trained_models).as_posix())\n"
      ]
    },
    {
      "cell_type": "code",
      "execution_count": 11,
      "id": "dd48b136-29e6-493d-afaf-4e437de92fbf",
      "metadata": {
        "colab": {
          "base_uri": "https://localhost:8080/"
        },
        "id": "dd48b136-29e6-493d-afaf-4e437de92fbf",
        "outputId": "6e5c53d7-7d73-4f1f-ad62-512ed54ced94"
      },
      "outputs": [
        {
          "name": "stdout",
          "output_type": "stream",
          "text": [
            "📁 datasets\n",
            "   📁 test\n",
            "      📁 original\n",
            "         📁 fake\n",
            "         📁 real\n",
            "      📁 transforms\n",
            "         📁 dwt\n",
            "         📁 log\n",
            "         📁 mel\n",
            "   📁 train\n",
            "      📁 original\n",
            "         📁 fake\n",
            "         📁 real\n",
            "      📁 transforms\n",
            "         📁 dwt\n",
            "         📁 log\n",
            "         📁 mel\n",
            "📁 models\n",
            "   📁 loaded\n",
            "      📄 alexnet_pretrain.pt\n",
            "      📄 alexnet_scratch.pt\n",
            "      📄 resnet18_pretrain.pt\n",
            "      📄 resnet18_scratch.pt\n",
            "   📁 trained\n",
            "      📄 alexnet_pretrain_dwt_seed23_epoch002_acc0.83.pt\n",
            "      📄 alexnet_pretrain_log_seed23_epoch003_acc0.93.pt\n",
            "      📄 alexnet_pretrain_mel_seed23_epoch003_acc0.95.pt\n",
            "      📄 alexnet_scratch_dwt_seed23_epoch002_acc0.83.pt\n",
            "      📄 alexnet_scratch_log_seed23_epoch003_acc0.78.pt\n",
            "      📄 alexnet_scratch_mel_seed23_epoch003_acc0.85.pt\n",
            "      📄 resnet18_pretrain_dwt_seed23_epoch001_acc0.93.pt\n",
            "      📄 resnet18_pretrain_log_seed23_epoch001_acc0.99.pt\n",
            "      📄 resnet18_pretrain_mel_seed23_epoch003_acc0.97.pt\n",
            "      📄 resnet18_scratch_dwt_seed23_epoch003_acc0.90.pt\n",
            "      📄 resnet18_scratch_log_seed23_epoch001_acc0.95.pt\n",
            "      📄 resnet18_scratch_mel_seed23_epoch003_acc0.95.pt\n",
            "📁 reports\n",
            "📄 experiment.json\n"
          ]
        }
      ],
      "source": [
        "def print_tree(root, max_depth: int = 3, prefix: str = \"\"):\n",
        "    if max_depth < 0:\n",
        "        return\n",
        "    try:\n",
        "        entries = sorted(root.iterdir(), key=lambda p: (p.is_file(), p.name.lower()))\n",
        "    except FileNotFoundError:\n",
        "        return\n",
        "    for e in entries:\n",
        "        print(prefix + (\"📄 \" if e.is_file() else \"📁 \") + e.name)\n",
        "        if e.is_dir():\n",
        "            print_tree(e, max_depth - 1, prefix + \"   \")\n",
        "\n",
        "print_tree(exp.root, max_depth=3)"
      ]
    },
    {
      "cell_type": "markdown",
      "id": "0ee85ade",
      "metadata": {
        "id": "0ee85ade"
      },
      "source": [
        "<a id=\"metrics-plots-optional\"></a>\n",
        "## 9) Metrics & Plots (Optional)\n",
        "<a id='sec9'></a>\n",
        "\n",
        "**Goal:** Visualize results.\n",
        "\n",
        "- `plot_architectures_for_transform`: bar chart of `(model+variant)` for a single transform.\n",
        "- `plot_variants_for_model`: bar chart of `(transform)` for a single `(model, variant)`.\n",
        "- `plot_heatmap_models_transforms`: heatmap over `(models×variants) × transforms`.\n",
        "\n",
        "**Color map defaults:** worst value → red, better → green, max at 100%. Each cell shows its value in %."
      ]
    },
    {
      "cell_type": "code",
      "execution_count": 12,
      "id": "0ddec955-f81c-4aab-9254-f727dfe9202d",
      "metadata": {
        "colab": {
          "base_uri": "https://localhost:8080/"
        },
        "id": "0ddec955-f81c-4aab-9254-f727dfe9202d",
        "outputId": "3967f956-141d-4db5-afcb-26e60b06fdc1"
      },
      "outputs": [
        {
          "name": "stderr",
          "output_type": "stream",
          "text": [
            "/usr/local/lib/python3.12/dist-packages/torch/utils/data/dataloader.py:627: UserWarning: This DataLoader will create 4 worker processes in total. Our suggested max number of worker in current system is 2, which is smaller than what this DataLoader is going to create. Please be aware that excessive worker creation might get DataLoader running slow or even freeze, lower the worker number to avoid potential slowness/freeze if necessary.\n",
            "  warnings.warn(\n",
            "/usr/local/lib/python3.12/dist-packages/torch/utils/data/dataloader.py:627: UserWarning: This DataLoader will create 4 worker processes in total. Our suggested max number of worker in current system is 2, which is smaller than what this DataLoader is going to create. Please be aware that excessive worker creation might get DataLoader running slow or even freeze, lower the worker number to avoid potential slowness/freeze if necessary.\n",
            "  warnings.warn(\n",
            "/usr/local/lib/python3.12/dist-packages/torch/utils/data/dataloader.py:627: UserWarning: This DataLoader will create 4 worker processes in total. Our suggested max number of worker in current system is 2, which is smaller than what this DataLoader is going to create. Please be aware that excessive worker creation might get DataLoader running slow or even freeze, lower the worker number to avoid potential slowness/freeze if necessary.\n",
            "  warnings.warn(\n",
            "/usr/local/lib/python3.12/dist-packages/torch/utils/data/dataloader.py:627: UserWarning: This DataLoader will create 4 worker processes in total. Our suggested max number of worker in current system is 2, which is smaller than what this DataLoader is going to create. Please be aware that excessive worker creation might get DataLoader running slow or even freeze, lower the worker number to avoid potential slowness/freeze if necessary.\n",
            "  warnings.warn(\n",
            "/usr/local/lib/python3.12/dist-packages/torch/utils/data/dataloader.py:627: UserWarning: This DataLoader will create 4 worker processes in total. Our suggested max number of worker in current system is 2, which is smaller than what this DataLoader is going to create. Please be aware that excessive worker creation might get DataLoader running slow or even freeze, lower the worker number to avoid potential slowness/freeze if necessary.\n",
            "  warnings.warn(\n",
            "/usr/local/lib/python3.12/dist-packages/torch/utils/data/dataloader.py:627: UserWarning: This DataLoader will create 4 worker processes in total. Our suggested max number of worker in current system is 2, which is smaller than what this DataLoader is going to create. Please be aware that excessive worker creation might get DataLoader running slow or even freeze, lower the worker number to avoid potential slowness/freeze if necessary.\n",
            "  warnings.warn(\n",
            "/usr/local/lib/python3.12/dist-packages/torch/utils/data/dataloader.py:627: UserWarning: This DataLoader will create 4 worker processes in total. Our suggested max number of worker in current system is 2, which is smaller than what this DataLoader is going to create. Please be aware that excessive worker creation might get DataLoader running slow or even freeze, lower the worker number to avoid potential slowness/freeze if necessary.\n",
            "  warnings.warn(\n",
            "/usr/local/lib/python3.12/dist-packages/torch/utils/data/dataloader.py:627: UserWarning: This DataLoader will create 4 worker processes in total. Our suggested max number of worker in current system is 2, which is smaller than what this DataLoader is going to create. Please be aware that excessive worker creation might get DataLoader running slow or even freeze, lower the worker number to avoid potential slowness/freeze if necessary.\n",
            "  warnings.warn(\n",
            "/usr/local/lib/python3.12/dist-packages/torch/utils/data/dataloader.py:627: UserWarning: This DataLoader will create 4 worker processes in total. Our suggested max number of worker in current system is 2, which is smaller than what this DataLoader is going to create. Please be aware that excessive worker creation might get DataLoader running slow or even freeze, lower the worker number to avoid potential slowness/freeze if necessary.\n",
            "  warnings.warn(\n",
            "/usr/local/lib/python3.12/dist-packages/torch/utils/data/dataloader.py:627: UserWarning: This DataLoader will create 4 worker processes in total. Our suggested max number of worker in current system is 2, which is smaller than what this DataLoader is going to create. Please be aware that excessive worker creation might get DataLoader running slow or even freeze, lower the worker number to avoid potential slowness/freeze if necessary.\n",
            "  warnings.warn(\n",
            "/usr/local/lib/python3.12/dist-packages/torch/utils/data/dataloader.py:627: UserWarning: This DataLoader will create 4 worker processes in total. Our suggested max number of worker in current system is 2, which is smaller than what this DataLoader is going to create. Please be aware that excessive worker creation might get DataLoader running slow or even freeze, lower the worker number to avoid potential slowness/freeze if necessary.\n",
            "  warnings.warn(\n"
          ]
        },
        {
          "name": "stdout",
          "output_type": "stream",
          "text": [
            "[metrics] CSV saved -> /content/drive/MyDrive/outputs/exp_v4/reports/metrics_summary.csv\n"
          ]
        }
      ],
      "source": [
        "from FakeVoiceFinder.fakevoicefinder.config import ExperimentConfig\n",
        "from FakeVoiceFinder.fakevoicefinder.experiment import CreateExperiment\n",
        "from FakeVoiceFinder.fakevoicefinder.metrics import MetricsReporter\n",
        "\n",
        "EXP_NAME = cfg.run_name\n",
        "OUTPUTS_PATH = cfg.outputs_path\n",
        "cfg = ExperimentConfig(); cfg.run_name = EXP_NAME\n",
        "cfg.outputs_path = OUTPUTS_PATH\n",
        "exp = CreateExperiment(cfg, experiment_name=cfg.run_name)\n",
        "\n",
        "rep = MetricsReporter(exp)                   # toma reports/ del manifest\n",
        "df = rep.evaluate_all(\"metrics_summary.csv\") # guarda CSV en outputs/<exp>/reports/"
      ]
    },
    {
      "cell_type": "code",
      "execution_count": 13,
      "id": "380c093b-d4e4-4aaa-b2b1-cd379e9fbcbe",
      "metadata": {
        "colab": {
          "base_uri": "https://localhost:8080/",
          "height": 425
        },
        "id": "380c093b-d4e4-4aaa-b2b1-cd379e9fbcbe",
        "outputId": "47469560-b5cd-4570-8262-f8d49522ca7c"
      },
      "outputs": [
        {
          "data": {
            "application/vnd.google.colaboratory.intrinsic+json": {
              "summary": "{\n  \"name\": \"df\",\n  \"rows\": 12,\n  \"fields\": [\n    {\n      \"column\": \"model\",\n      \"properties\": {\n        \"dtype\": \"category\",\n        \"num_unique_values\": 2,\n        \"samples\": [\n          \"resnet18\",\n          \"alexnet\"\n        ],\n        \"semantic_type\": \"\",\n        \"description\": \"\"\n      }\n    },\n    {\n      \"column\": \"variant\",\n      \"properties\": {\n        \"dtype\": \"category\",\n        \"num_unique_values\": 2,\n        \"samples\": [\n          \"scratch\",\n          \"pretrain\"\n        ],\n        \"semantic_type\": \"\",\n        \"description\": \"\"\n      }\n    },\n    {\n      \"column\": \"transform\",\n      \"properties\": {\n        \"dtype\": \"category\",\n        \"num_unique_values\": 3,\n        \"samples\": [\n          \"dwt\",\n          \"log\"\n        ],\n        \"semantic_type\": \"\",\n        \"description\": \"\"\n      }\n    },\n    {\n      \"column\": \"accuracy\",\n      \"properties\": {\n        \"dtype\": \"number\",\n        \"std\": 9.580485334388037,\n        \"min\": 69.17,\n        \"max\": 98.75,\n        \"num_unique_values\": 12,\n        \"samples\": [\n          97.5,\n          85.42\n        ],\n        \"semantic_type\": \"\",\n        \"description\": \"\"\n      }\n    },\n    {\n      \"column\": \"f1\",\n      \"properties\": {\n        \"dtype\": \"number\",\n        \"std\": 7.443083987328387,\n        \"min\": 76.28,\n        \"max\": 98.73,\n        \"num_unique_values\": 12,\n        \"samples\": [\n          97.54,\n          86.79\n        ],\n        \"semantic_type\": \"\",\n        \"description\": \"\"\n      }\n    },\n    {\n      \"column\": \"f1_macro\",\n      \"properties\": {\n        \"dtype\": \"number\",\n        \"std\": 10.357486057158967,\n        \"min\": 66.12,\n        \"max\": 98.75,\n        \"num_unique_values\": 12,\n        \"samples\": [\n          97.5,\n          85.26\n        ],\n        \"semantic_type\": \"\",\n        \"description\": \"\"\n      }\n    },\n    {\n      \"column\": \"f1_micro\",\n      \"properties\": {\n        \"dtype\": \"number\",\n        \"std\": 9.580485334388037,\n        \"min\": 69.17,\n        \"max\": 98.75,\n        \"num_unique_values\": 12,\n        \"samples\": [\n          97.5,\n          85.42\n        ],\n        \"semantic_type\": \"\",\n        \"description\": \"\"\n      }\n    },\n    {\n      \"column\": \"precision\",\n      \"properties\": {\n        \"dtype\": \"number\",\n        \"std\": 12.966689023895972,\n        \"min\": 61.98,\n        \"max\": 100.0,\n        \"num_unique_values\": 12,\n        \"samples\": [\n          95.97,\n          79.31\n        ],\n        \"semantic_type\": \"\",\n        \"description\": \"\"\n      }\n    },\n    {\n      \"column\": \"recall\",\n      \"properties\": {\n        \"dtype\": \"number\",\n        \"std\": 4.056338100784843,\n        \"min\": 86.67,\n        \"max\": 99.17,\n        \"num_unique_values\": 7,\n        \"samples\": [\n          99.17,\n          97.5\n        ],\n        \"semantic_type\": \"\",\n        \"description\": \"\"\n      }\n    },\n    {\n      \"column\": \"checkpoint\",\n      \"properties\": {\n        \"dtype\": \"string\",\n        \"num_unique_values\": 12,\n        \"samples\": [\n          \"../drive/MyDrive/outputs/exp_v4/models/trained/resnet18_pretrain_mel_seed23_epoch003_acc0.97.pt\",\n          \"../drive/MyDrive/outputs/exp_v4/models/trained/alexnet_scratch_mel_seed23_epoch003_acc0.85.pt\"\n        ],\n        \"semantic_type\": \"\",\n        \"description\": \"\"\n      }\n    }\n  ]\n}",
              "type": "dataframe",
              "variable_name": "df"
            },
            "text/html": [
              "\n",
              "  <div id=\"df-e86778ba-0e06-42e2-8e0f-484ce870bc50\" class=\"colab-df-container\">\n",
              "    <div>\n",
              "<style scoped>\n",
              "    .dataframe tbody tr th:only-of-type {\n",
              "        vertical-align: middle;\n",
              "    }\n",
              "\n",
              "    .dataframe tbody tr th {\n",
              "        vertical-align: top;\n",
              "    }\n",
              "\n",
              "    .dataframe thead th {\n",
              "        text-align: right;\n",
              "    }\n",
              "</style>\n",
              "<table border=\"1\" class=\"dataframe\">\n",
              "  <thead>\n",
              "    <tr style=\"text-align: right;\">\n",
              "      <th></th>\n",
              "      <th>model</th>\n",
              "      <th>variant</th>\n",
              "      <th>transform</th>\n",
              "      <th>accuracy</th>\n",
              "      <th>f1</th>\n",
              "      <th>f1_macro</th>\n",
              "      <th>f1_micro</th>\n",
              "      <th>precision</th>\n",
              "      <th>recall</th>\n",
              "      <th>checkpoint</th>\n",
              "    </tr>\n",
              "  </thead>\n",
              "  <tbody>\n",
              "    <tr>\n",
              "      <th>0</th>\n",
              "      <td>alexnet</td>\n",
              "      <td>pretrain</td>\n",
              "      <td>dwt</td>\n",
              "      <td>69.17</td>\n",
              "      <td>76.28</td>\n",
              "      <td>66.12</td>\n",
              "      <td>69.17</td>\n",
              "      <td>61.98</td>\n",
              "      <td>99.17</td>\n",
              "      <td>../drive/MyDrive/outputs/exp_v4/models/trained...</td>\n",
              "    </tr>\n",
              "    <tr>\n",
              "      <th>1</th>\n",
              "      <td>alexnet</td>\n",
              "      <td>scratch</td>\n",
              "      <td>dwt</td>\n",
              "      <td>75.00</td>\n",
              "      <td>79.59</td>\n",
              "      <td>73.67</td>\n",
              "      <td>75.00</td>\n",
              "      <td>67.24</td>\n",
              "      <td>97.50</td>\n",
              "      <td>../drive/MyDrive/outputs/exp_v4/models/trained...</td>\n",
              "    </tr>\n",
              "    <tr>\n",
              "      <th>2</th>\n",
              "      <td>resnet18</td>\n",
              "      <td>pretrain</td>\n",
              "      <td>dwt</td>\n",
              "      <td>85.83</td>\n",
              "      <td>87.50</td>\n",
              "      <td>85.58</td>\n",
              "      <td>85.83</td>\n",
              "      <td>78.29</td>\n",
              "      <td>99.17</td>\n",
              "      <td>../drive/MyDrive/outputs/exp_v4/models/trained...</td>\n",
              "    </tr>\n",
              "    <tr>\n",
              "      <th>3</th>\n",
              "      <td>resnet18</td>\n",
              "      <td>scratch</td>\n",
              "      <td>dwt</td>\n",
              "      <td>89.58</td>\n",
              "      <td>89.27</td>\n",
              "      <td>89.57</td>\n",
              "      <td>89.58</td>\n",
              "      <td>92.04</td>\n",
              "      <td>86.67</td>\n",
              "      <td>../drive/MyDrive/outputs/exp_v4/models/trained...</td>\n",
              "    </tr>\n",
              "    <tr>\n",
              "      <th>4</th>\n",
              "      <td>alexnet</td>\n",
              "      <td>pretrain</td>\n",
              "      <td>log</td>\n",
              "      <td>93.33</td>\n",
              "      <td>93.04</td>\n",
              "      <td>93.32</td>\n",
              "      <td>93.33</td>\n",
              "      <td>97.27</td>\n",
              "      <td>89.17</td>\n",
              "      <td>../drive/MyDrive/outputs/exp_v4/models/trained...</td>\n",
              "    </tr>\n",
              "    <tr>\n",
              "      <th>5</th>\n",
              "      <td>alexnet</td>\n",
              "      <td>scratch</td>\n",
              "      <td>log</td>\n",
              "      <td>77.92</td>\n",
              "      <td>80.73</td>\n",
              "      <td>77.44</td>\n",
              "      <td>77.92</td>\n",
              "      <td>71.61</td>\n",
              "      <td>92.50</td>\n",
              "      <td>../drive/MyDrive/outputs/exp_v4/models/trained...</td>\n",
              "    </tr>\n",
              "    <tr>\n",
              "      <th>6</th>\n",
              "      <td>resnet18</td>\n",
              "      <td>pretrain</td>\n",
              "      <td>log</td>\n",
              "      <td>98.75</td>\n",
              "      <td>98.73</td>\n",
              "      <td>98.75</td>\n",
              "      <td>98.75</td>\n",
              "      <td>100.00</td>\n",
              "      <td>97.50</td>\n",
              "      <td>../drive/MyDrive/outputs/exp_v4/models/trained...</td>\n",
              "    </tr>\n",
              "    <tr>\n",
              "      <th>7</th>\n",
              "      <td>resnet18</td>\n",
              "      <td>scratch</td>\n",
              "      <td>log</td>\n",
              "      <td>94.17</td>\n",
              "      <td>94.35</td>\n",
              "      <td>94.16</td>\n",
              "      <td>94.17</td>\n",
              "      <td>91.41</td>\n",
              "      <td>97.50</td>\n",
              "      <td>../drive/MyDrive/outputs/exp_v4/models/trained...</td>\n",
              "    </tr>\n",
              "    <tr>\n",
              "      <th>8</th>\n",
              "      <td>alexnet</td>\n",
              "      <td>pretrain</td>\n",
              "      <td>mel</td>\n",
              "      <td>94.58</td>\n",
              "      <td>94.69</td>\n",
              "      <td>94.58</td>\n",
              "      <td>94.58</td>\n",
              "      <td>92.80</td>\n",
              "      <td>96.67</td>\n",
              "      <td>../drive/MyDrive/outputs/exp_v4/models/trained...</td>\n",
              "    </tr>\n",
              "    <tr>\n",
              "      <th>9</th>\n",
              "      <td>alexnet</td>\n",
              "      <td>scratch</td>\n",
              "      <td>mel</td>\n",
              "      <td>85.42</td>\n",
              "      <td>86.79</td>\n",
              "      <td>85.26</td>\n",
              "      <td>85.42</td>\n",
              "      <td>79.31</td>\n",
              "      <td>95.83</td>\n",
              "      <td>../drive/MyDrive/outputs/exp_v4/models/trained...</td>\n",
              "    </tr>\n",
              "    <tr>\n",
              "      <th>10</th>\n",
              "      <td>resnet18</td>\n",
              "      <td>pretrain</td>\n",
              "      <td>mel</td>\n",
              "      <td>97.50</td>\n",
              "      <td>97.54</td>\n",
              "      <td>97.50</td>\n",
              "      <td>97.50</td>\n",
              "      <td>95.97</td>\n",
              "      <td>99.17</td>\n",
              "      <td>../drive/MyDrive/outputs/exp_v4/models/trained...</td>\n",
              "    </tr>\n",
              "    <tr>\n",
              "      <th>11</th>\n",
              "      <td>resnet18</td>\n",
              "      <td>scratch</td>\n",
              "      <td>mel</td>\n",
              "      <td>95.42</td>\n",
              "      <td>95.44</td>\n",
              "      <td>95.42</td>\n",
              "      <td>95.42</td>\n",
              "      <td>95.04</td>\n",
              "      <td>95.83</td>\n",
              "      <td>../drive/MyDrive/outputs/exp_v4/models/trained...</td>\n",
              "    </tr>\n",
              "  </tbody>\n",
              "</table>\n",
              "</div>\n",
              "    <div class=\"colab-df-buttons\">\n",
              "\n",
              "  <div class=\"colab-df-container\">\n",
              "    <button class=\"colab-df-convert\" onclick=\"convertToInteractive('df-e86778ba-0e06-42e2-8e0f-484ce870bc50')\"\n",
              "            title=\"Convert this dataframe to an interactive table.\"\n",
              "            style=\"display:none;\">\n",
              "\n",
              "  <svg xmlns=\"http://www.w3.org/2000/svg\" height=\"24px\" viewBox=\"0 -960 960 960\">\n",
              "    <path d=\"M120-120v-720h720v720H120Zm60-500h600v-160H180v160Zm220 220h160v-160H400v160Zm0 220h160v-160H400v160ZM180-400h160v-160H180v160Zm440 0h160v-160H620v160ZM180-180h160v-160H180v160Zm440 0h160v-160H620v160Z\"/>\n",
              "  </svg>\n",
              "    </button>\n",
              "\n",
              "  <style>\n",
              "    .colab-df-container {\n",
              "      display:flex;\n",
              "      gap: 12px;\n",
              "    }\n",
              "\n",
              "    .colab-df-convert {\n",
              "      background-color: #E8F0FE;\n",
              "      border: none;\n",
              "      border-radius: 50%;\n",
              "      cursor: pointer;\n",
              "      display: none;\n",
              "      fill: #1967D2;\n",
              "      height: 32px;\n",
              "      padding: 0 0 0 0;\n",
              "      width: 32px;\n",
              "    }\n",
              "\n",
              "    .colab-df-convert:hover {\n",
              "      background-color: #E2EBFA;\n",
              "      box-shadow: 0px 1px 2px rgba(60, 64, 67, 0.3), 0px 1px 3px 1px rgba(60, 64, 67, 0.15);\n",
              "      fill: #174EA6;\n",
              "    }\n",
              "\n",
              "    .colab-df-buttons div {\n",
              "      margin-bottom: 4px;\n",
              "    }\n",
              "\n",
              "    [theme=dark] .colab-df-convert {\n",
              "      background-color: #3B4455;\n",
              "      fill: #D2E3FC;\n",
              "    }\n",
              "\n",
              "    [theme=dark] .colab-df-convert:hover {\n",
              "      background-color: #434B5C;\n",
              "      box-shadow: 0px 1px 3px 1px rgba(0, 0, 0, 0.15);\n",
              "      filter: drop-shadow(0px 1px 2px rgba(0, 0, 0, 0.3));\n",
              "      fill: #FFFFFF;\n",
              "    }\n",
              "  </style>\n",
              "\n",
              "    <script>\n",
              "      const buttonEl =\n",
              "        document.querySelector('#df-e86778ba-0e06-42e2-8e0f-484ce870bc50 button.colab-df-convert');\n",
              "      buttonEl.style.display =\n",
              "        google.colab.kernel.accessAllowed ? 'block' : 'none';\n",
              "\n",
              "      async function convertToInteractive(key) {\n",
              "        const element = document.querySelector('#df-e86778ba-0e06-42e2-8e0f-484ce870bc50');\n",
              "        const dataTable =\n",
              "          await google.colab.kernel.invokeFunction('convertToInteractive',\n",
              "                                                    [key], {});\n",
              "        if (!dataTable) return;\n",
              "\n",
              "        const docLinkHtml = 'Like what you see? Visit the ' +\n",
              "          '<a target=\"_blank\" href=https://colab.research.google.com/notebooks/data_table.ipynb>data table notebook</a>'\n",
              "          + ' to learn more about interactive tables.';\n",
              "        element.innerHTML = '';\n",
              "        dataTable['output_type'] = 'display_data';\n",
              "        await google.colab.output.renderOutput(dataTable, element);\n",
              "        const docLink = document.createElement('div');\n",
              "        docLink.innerHTML = docLinkHtml;\n",
              "        element.appendChild(docLink);\n",
              "      }\n",
              "    </script>\n",
              "  </div>\n",
              "\n",
              "\n",
              "    <div id=\"df-8ecc823f-114e-4333-9545-54861cabae63\">\n",
              "      <button class=\"colab-df-quickchart\" onclick=\"quickchart('df-8ecc823f-114e-4333-9545-54861cabae63')\"\n",
              "                title=\"Suggest charts\"\n",
              "                style=\"display:none;\">\n",
              "\n",
              "<svg xmlns=\"http://www.w3.org/2000/svg\" height=\"24px\"viewBox=\"0 0 24 24\"\n",
              "     width=\"24px\">\n",
              "    <g>\n",
              "        <path d=\"M19 3H5c-1.1 0-2 .9-2 2v14c0 1.1.9 2 2 2h14c1.1 0 2-.9 2-2V5c0-1.1-.9-2-2-2zM9 17H7v-7h2v7zm4 0h-2V7h2v10zm4 0h-2v-4h2v4z\"/>\n",
              "    </g>\n",
              "</svg>\n",
              "      </button>\n",
              "\n",
              "<style>\n",
              "  .colab-df-quickchart {\n",
              "      --bg-color: #E8F0FE;\n",
              "      --fill-color: #1967D2;\n",
              "      --hover-bg-color: #E2EBFA;\n",
              "      --hover-fill-color: #174EA6;\n",
              "      --disabled-fill-color: #AAA;\n",
              "      --disabled-bg-color: #DDD;\n",
              "  }\n",
              "\n",
              "  [theme=dark] .colab-df-quickchart {\n",
              "      --bg-color: #3B4455;\n",
              "      --fill-color: #D2E3FC;\n",
              "      --hover-bg-color: #434B5C;\n",
              "      --hover-fill-color: #FFFFFF;\n",
              "      --disabled-bg-color: #3B4455;\n",
              "      --disabled-fill-color: #666;\n",
              "  }\n",
              "\n",
              "  .colab-df-quickchart {\n",
              "    background-color: var(--bg-color);\n",
              "    border: none;\n",
              "    border-radius: 50%;\n",
              "    cursor: pointer;\n",
              "    display: none;\n",
              "    fill: var(--fill-color);\n",
              "    height: 32px;\n",
              "    padding: 0;\n",
              "    width: 32px;\n",
              "  }\n",
              "\n",
              "  .colab-df-quickchart:hover {\n",
              "    background-color: var(--hover-bg-color);\n",
              "    box-shadow: 0 1px 2px rgba(60, 64, 67, 0.3), 0 1px 3px 1px rgba(60, 64, 67, 0.15);\n",
              "    fill: var(--button-hover-fill-color);\n",
              "  }\n",
              "\n",
              "  .colab-df-quickchart-complete:disabled,\n",
              "  .colab-df-quickchart-complete:disabled:hover {\n",
              "    background-color: var(--disabled-bg-color);\n",
              "    fill: var(--disabled-fill-color);\n",
              "    box-shadow: none;\n",
              "  }\n",
              "\n",
              "  .colab-df-spinner {\n",
              "    border: 2px solid var(--fill-color);\n",
              "    border-color: transparent;\n",
              "    border-bottom-color: var(--fill-color);\n",
              "    animation:\n",
              "      spin 1s steps(1) infinite;\n",
              "  }\n",
              "\n",
              "  @keyframes spin {\n",
              "    0% {\n",
              "      border-color: transparent;\n",
              "      border-bottom-color: var(--fill-color);\n",
              "      border-left-color: var(--fill-color);\n",
              "    }\n",
              "    20% {\n",
              "      border-color: transparent;\n",
              "      border-left-color: var(--fill-color);\n",
              "      border-top-color: var(--fill-color);\n",
              "    }\n",
              "    30% {\n",
              "      border-color: transparent;\n",
              "      border-left-color: var(--fill-color);\n",
              "      border-top-color: var(--fill-color);\n",
              "      border-right-color: var(--fill-color);\n",
              "    }\n",
              "    40% {\n",
              "      border-color: transparent;\n",
              "      border-right-color: var(--fill-color);\n",
              "      border-top-color: var(--fill-color);\n",
              "    }\n",
              "    60% {\n",
              "      border-color: transparent;\n",
              "      border-right-color: var(--fill-color);\n",
              "    }\n",
              "    80% {\n",
              "      border-color: transparent;\n",
              "      border-right-color: var(--fill-color);\n",
              "      border-bottom-color: var(--fill-color);\n",
              "    }\n",
              "    90% {\n",
              "      border-color: transparent;\n",
              "      border-bottom-color: var(--fill-color);\n",
              "    }\n",
              "  }\n",
              "</style>\n",
              "\n",
              "      <script>\n",
              "        async function quickchart(key) {\n",
              "          const quickchartButtonEl =\n",
              "            document.querySelector('#' + key + ' button');\n",
              "          quickchartButtonEl.disabled = true;  // To prevent multiple clicks.\n",
              "          quickchartButtonEl.classList.add('colab-df-spinner');\n",
              "          try {\n",
              "            const charts = await google.colab.kernel.invokeFunction(\n",
              "                'suggestCharts', [key], {});\n",
              "          } catch (error) {\n",
              "            console.error('Error during call to suggestCharts:', error);\n",
              "          }\n",
              "          quickchartButtonEl.classList.remove('colab-df-spinner');\n",
              "          quickchartButtonEl.classList.add('colab-df-quickchart-complete');\n",
              "        }\n",
              "        (() => {\n",
              "          let quickchartButtonEl =\n",
              "            document.querySelector('#df-8ecc823f-114e-4333-9545-54861cabae63 button');\n",
              "          quickchartButtonEl.style.display =\n",
              "            google.colab.kernel.accessAllowed ? 'block' : 'none';\n",
              "        })();\n",
              "      </script>\n",
              "    </div>\n",
              "\n",
              "  <div id=\"id_6825b2c1-2cfe-44ce-a369-74772e0da3cf\">\n",
              "    <style>\n",
              "      .colab-df-generate {\n",
              "        background-color: #E8F0FE;\n",
              "        border: none;\n",
              "        border-radius: 50%;\n",
              "        cursor: pointer;\n",
              "        display: none;\n",
              "        fill: #1967D2;\n",
              "        height: 32px;\n",
              "        padding: 0 0 0 0;\n",
              "        width: 32px;\n",
              "      }\n",
              "\n",
              "      .colab-df-generate:hover {\n",
              "        background-color: #E2EBFA;\n",
              "        box-shadow: 0px 1px 2px rgba(60, 64, 67, 0.3), 0px 1px 3px 1px rgba(60, 64, 67, 0.15);\n",
              "        fill: #174EA6;\n",
              "      }\n",
              "\n",
              "      [theme=dark] .colab-df-generate {\n",
              "        background-color: #3B4455;\n",
              "        fill: #D2E3FC;\n",
              "      }\n",
              "\n",
              "      [theme=dark] .colab-df-generate:hover {\n",
              "        background-color: #434B5C;\n",
              "        box-shadow: 0px 1px 3px 1px rgba(0, 0, 0, 0.15);\n",
              "        filter: drop-shadow(0px 1px 2px rgba(0, 0, 0, 0.3));\n",
              "        fill: #FFFFFF;\n",
              "      }\n",
              "    </style>\n",
              "    <button class=\"colab-df-generate\" onclick=\"generateWithVariable('df')\"\n",
              "            title=\"Generate code using this dataframe.\"\n",
              "            style=\"display:none;\">\n",
              "\n",
              "  <svg xmlns=\"http://www.w3.org/2000/svg\" height=\"24px\"viewBox=\"0 0 24 24\"\n",
              "       width=\"24px\">\n",
              "    <path d=\"M7,19H8.4L18.45,9,17,7.55,7,17.6ZM5,21V16.75L18.45,3.32a2,2,0,0,1,2.83,0l1.4,1.43a1.91,1.91,0,0,1,.58,1.4,1.91,1.91,0,0,1-.58,1.4L9.25,21ZM18.45,9,17,7.55Zm-12,3A5.31,5.31,0,0,0,4.9,8.1,5.31,5.31,0,0,0,1,6.5,5.31,5.31,0,0,0,4.9,4.9,5.31,5.31,0,0,0,6.5,1,5.31,5.31,0,0,0,8.1,4.9,5.31,5.31,0,0,0,12,6.5,5.46,5.46,0,0,0,6.5,12Z\"/>\n",
              "  </svg>\n",
              "    </button>\n",
              "    <script>\n",
              "      (() => {\n",
              "      const buttonEl =\n",
              "        document.querySelector('#id_6825b2c1-2cfe-44ce-a369-74772e0da3cf button.colab-df-generate');\n",
              "      buttonEl.style.display =\n",
              "        google.colab.kernel.accessAllowed ? 'block' : 'none';\n",
              "\n",
              "      buttonEl.onclick = () => {\n",
              "        google.colab.notebook.generateWithVariable('df');\n",
              "      }\n",
              "      })();\n",
              "    </script>\n",
              "  </div>\n",
              "\n",
              "    </div>\n",
              "  </div>\n"
            ],
            "text/plain": [
              "       model   variant transform  accuracy     f1  f1_macro  f1_micro  \\\n",
              "0    alexnet  pretrain       dwt     69.17  76.28     66.12     69.17   \n",
              "1    alexnet   scratch       dwt     75.00  79.59     73.67     75.00   \n",
              "2   resnet18  pretrain       dwt     85.83  87.50     85.58     85.83   \n",
              "3   resnet18   scratch       dwt     89.58  89.27     89.57     89.58   \n",
              "4    alexnet  pretrain       log     93.33  93.04     93.32     93.33   \n",
              "5    alexnet   scratch       log     77.92  80.73     77.44     77.92   \n",
              "6   resnet18  pretrain       log     98.75  98.73     98.75     98.75   \n",
              "7   resnet18   scratch       log     94.17  94.35     94.16     94.17   \n",
              "8    alexnet  pretrain       mel     94.58  94.69     94.58     94.58   \n",
              "9    alexnet   scratch       mel     85.42  86.79     85.26     85.42   \n",
              "10  resnet18  pretrain       mel     97.50  97.54     97.50     97.50   \n",
              "11  resnet18   scratch       mel     95.42  95.44     95.42     95.42   \n",
              "\n",
              "    precision  recall                                         checkpoint  \n",
              "0       61.98   99.17  ../drive/MyDrive/outputs/exp_v4/models/trained...  \n",
              "1       67.24   97.50  ../drive/MyDrive/outputs/exp_v4/models/trained...  \n",
              "2       78.29   99.17  ../drive/MyDrive/outputs/exp_v4/models/trained...  \n",
              "3       92.04   86.67  ../drive/MyDrive/outputs/exp_v4/models/trained...  \n",
              "4       97.27   89.17  ../drive/MyDrive/outputs/exp_v4/models/trained...  \n",
              "5       71.61   92.50  ../drive/MyDrive/outputs/exp_v4/models/trained...  \n",
              "6      100.00   97.50  ../drive/MyDrive/outputs/exp_v4/models/trained...  \n",
              "7       91.41   97.50  ../drive/MyDrive/outputs/exp_v4/models/trained...  \n",
              "8       92.80   96.67  ../drive/MyDrive/outputs/exp_v4/models/trained...  \n",
              "9       79.31   95.83  ../drive/MyDrive/outputs/exp_v4/models/trained...  \n",
              "10      95.97   99.17  ../drive/MyDrive/outputs/exp_v4/models/trained...  \n",
              "11      95.04   95.83  ../drive/MyDrive/outputs/exp_v4/models/trained...  "
            ]
          },
          "execution_count": 13,
          "metadata": {},
          "output_type": "execute_result"
        }
      ],
      "source": [
        "df"
      ]
    },
    {
      "cell_type": "code",
      "execution_count": 17,
      "id": "8c40aa08-c596-4335-adb4-3302bc0adbba",
      "metadata": {
        "colab": {
          "base_uri": "https://localhost:8080/",
          "height": 524
        },
        "id": "8c40aa08-c596-4335-adb4-3302bc0adbba",
        "outputId": "e8554856-b54c-4fc1-cda2-40ea9df62abb"
      },
      "outputs": [
        {
          "data": {
            "image/png": "[encoded data removed]",
            "text/plain": [
              "<Figure size 1200x500 with 1 Axes>"
            ]
          },
          "metadata": {},
          "output_type": "display_data"
        },
        {
          "name": "stdout",
          "output_type": "stream",
          "text": [
            "[metrics] Figure saved -> /content/drive/MyDrive/outputs/exp_v4/reports/fig_arch_mel_acc.png\n"
          ]
        }
      ],
      "source": [
        "# Figuras (se guardan en 'reports/' al pasar out_name)\n",
        "rep.plot_architectures_for_transform(df, transform=\"mel\", metric=\"accuracy\",\n",
        "                                     y_min=0, y_max=100, out_name=\"fig_arch_mel_acc.png\")\n"
      ]
    },
    {
      "cell_type": "code",
      "execution_count": 18,
      "id": "e3bc0736-51d2-4703-84e1-fc6bd765d3c0",
      "metadata": {
        "colab": {
          "base_uri": "https://localhost:8080/",
          "height": 474
        },
        "id": "e3bc0736-51d2-4703-84e1-fc6bd765d3c0",
        "outputId": "f8ebb274-b1d1-4169-b217-5534ba440271"
      },
      "outputs": [
        {
          "data": {
            "image/png": "[encoded data removed]",
            "text/plain": [
              "<Figure size 900x450 with 1 Axes>"
            ]
          },
          "metadata": {},
          "output_type": "display_data"
        },
        {
          "name": "stdout",
          "output_type": "stream",
          "text": [
            "[metrics] Figure saved -> /content/drive/MyDrive/outputs/exp_v4/reports/fig_alexnet_pretrain_accuracy.png\n"
          ]
        }
      ],
      "source": [
        "rep.plot_variants_for_model(df, model=\"alexnet\", variant=\"pretrain\", metric=\"accuracy\",\n",
        "                              y_min=0, y_max=100, out_name=\"fig_alexnet_pretrain_accuracy.png\")\n"
      ]
    },
    {
      "cell_type": "code",
      "execution_count": 19,
      "id": "3fae50da-8b87-41b8-8cdb-be56c9ba0bfa",
      "metadata": {
        "colab": {
          "base_uri": "https://localhost:8080/",
          "height": 724
        },
        "id": "3fae50da-8b87-41b8-8cdb-be56c9ba0bfa",
        "outputId": "dc824e59-cabb-47e6-c68c-bc203b87fdec"
      },
      "outputs": [
        {
          "data": {
            "image/png": "[encoded data removed]",
            "text/plain": [
              "<Figure size 1200x700 with 2 Axes>"
            ]
          },
          "metadata": {},
          "output_type": "display_data"
        },
        {
          "name": "stdout",
          "output_type": "stream",
          "text": [
            "[metrics] Figure saved -> /content/drive/MyDrive/outputs/exp_v4/reports/fig_all.png\n"
          ]
        }
      ],
      "source": [
        "rep.plot_heatmap_models_transforms(df, metric=\"accuracy\", vmin=50, vmax=100,\n",
        "                                   out_name=\"fig_all.png\")\n"
      ]
    },
    {
      "cell_type": "markdown",
      "id": "06f7832b",
      "metadata": {
        "id": "06f7832b"
      },
      "source": [
        "<a id=\"appendix-tips-troubleshooting\"></a>\n",
        "## Appendix — Tips & Troubleshooting\n",
        "<a id='sec10'></a>\n",
        "\n",
        "- If using ViT/ConvNeXt, prefer **224×224** inputs. Set `cfg.image_size = 224` (MEL/LOG) or use **DWT**.\n",
        "- If audio files vary in length, pick an appropriate `clip_seconds`. Shorter files are zero-padded.\n",
        "- If you change transform hyperparameters, rerun the transform step to regenerate features.\n",
        "- Ensure CUDA is available if `cfg.device='gpu'`. Otherwise, it will fall back to CPU.\n",
        "- Check `outputs/<RUN>/reports/` for figures and CSVs."
      ]
    },
    {
      "cell_type": "code",
      "execution_count": null,
      "id": "76d780ed-ec58-4916-946d-3a35c7cea178",
      "metadata": {
        "id": "76d780ed-ec58-4916-946d-3a35c7cea178"
      },
      "outputs": [],
      "source": []
    }
  ],
  "metadata": {
    "accelerator": "GPU",
    "colab": {
      "gpuType": "T4",
      "provenance": []
    },
    "kernelspec": {
      "display_name": "Python [conda env:base] *",
      "language": "python",
      "name": "conda-base-py"
    },
    "language_info": {
      "codemirror_mode": {
        "name": "ipython",
        "version": 3
      },
      "file_extension": ".py",
      "mimetype": "text/x-python",
      "name": "python",
      "nbconvert_exporter": "python",
      "pygments_lexer": "ipython3",
      "version": "3.11.7"
    }
  },
  "nbformat": 4,
  "nbformat_minor": 5
}
